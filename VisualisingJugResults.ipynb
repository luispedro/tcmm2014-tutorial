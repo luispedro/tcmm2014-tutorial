{
 "metadata": {
  "name": ""
 },
 "nbformat": 3,
 "nbformat_minor": 0,
 "worksheets": [
  {
   "cells": [
    {
     "cell_type": "markdown",
     "metadata": {},
     "source": [
      "Visualising the Results\n",
      "=======================\n",
      "\n",
      "Let's start with the basics (as we saw before):"
     ]
    },
    {
     "cell_type": "code",
     "collapsed": false,
     "input": [
      "%matplotlib inline\n",
      "\n",
      "from matplotlib import pyplot as plt\n",
      "import mahotas as mh\n",
      "import numpy as np\n",
      "from IPython.html.widgets import interact, fixed\n",
      "plt.rcParams['figure.figsize'] = (10.0, 8.0) # 10 x 8 inches\n",
      "plt.gray()"
     ],
     "language": "python",
     "metadata": {},
     "outputs": []
    },
    {
     "cell_type": "markdown",
     "metadata": {},
     "source": [
      "Now these are the imports for ``jug`` and also our own jugfile (which is just a Python script):"
     ]
    },
    {
     "cell_type": "code",
     "collapsed": false,
     "input": [
      "import jugfile as jf\n",
      "from jug import set_jugdir, value"
     ],
     "language": "python",
     "metadata": {},
     "outputs": []
    },
    {
     "cell_type": "markdown",
     "metadata": {},
     "source": [
      "We need to tell jugfile where its output files are, using ``set_jugdir``:"
     ]
    },
    {
     "cell_type": "code",
     "collapsed": false,
     "input": [
      "set_jugdir('jugfile.jugdata/')"
     ],
     "language": "python",
     "metadata": {},
     "outputs": []
    },
    {
     "cell_type": "markdown",
     "metadata": {},
     "source": [
      "The objects in the jugfile are Task objects:"
     ]
    },
    {
     "cell_type": "code",
     "collapsed": false,
     "input": [
      "jf.results[0]"
     ],
     "language": "python",
     "metadata": {},
     "outputs": []
    },
    {
     "cell_type": "markdown",
     "metadata": {},
     "source": [
      "We can use the ``value`` function to load them on demand:"
     ]
    },
    {
     "cell_type": "code",
     "collapsed": false,
     "input": [
      "results = value(jf.results)"
     ],
     "language": "python",
     "metadata": {},
     "outputs": []
    },
    {
     "cell_type": "code",
     "collapsed": false,
     "input": [
      "results"
     ],
     "language": "python",
     "metadata": {},
     "outputs": []
    },
    {
     "cell_type": "code",
     "collapsed": false,
     "input": [
      "plt.plot(results)"
     ],
     "language": "python",
     "metadata": {},
     "outputs": []
    },
    {
     "cell_type": "code",
     "collapsed": false,
     "input": [
      "resarg = np.argsort(results)\n",
      "@interact(ix=(0,len(jf.images)), gamma=(.01,1.))\n",
      "def show_best(ix, gamma):\n",
      "    ix = resarg[ix]\n",
      "    fig, axes = plt.subplots(1,3)\n",
      "    for ax in axes:\n",
      "        ax.set_xticks([])\n",
      "        ax.set_yticks([])\n",
      "    im = mh.imread(jf.images[ix], as_grey=True).astype(float)\n",
      "    axes[0].imshow(mh.stretch(im**gamma))\n",
      "    axes[1].imshow(value(jf.segmented[ix]))\n",
      "    axes[2].imshow(mh.imread(jf.reference_for(jf.images[ix])))\n",
      "    print(\"Result is {}.\".format(results[ix]))"
     ],
     "language": "python",
     "metadata": {},
     "outputs": []
    }
   ],
   "metadata": {}
  }
 ]
}