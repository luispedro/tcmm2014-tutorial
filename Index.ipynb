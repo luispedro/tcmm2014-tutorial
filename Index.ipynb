{
 "metadata": {
  "name": ""
 },
 "nbformat": 3,
 "nbformat_minor": 0,
 "worksheets": [
  {
   "cells": [
    {
     "cell_type": "markdown",
     "metadata": {},
     "source": [
      "# Python image processing tutorial\n",
      "\n",
      "**Step 0**: Make sure you have installed all necessary dependencies (see below).\n",
      "\n",
      "1. [Numpy introduction](Numpy%20introduction.ipynb)\n",
      "2. [Loading/showing images](Load images.ipynb)\n",
      "3. [Playing with images](Playing%20with%20images%20%26%20filters.ipynb)\n",
      "4. [Segmenting cell images](Segmenting%20cell%20images%20(fluorescent%20microscopy%29.ipynb)"
     ]
    },
    {
     "cell_type": "markdown",
     "metadata": {},
     "source": [
      "## Goals of this tutorial\n",
      "\n",
      "- introduction to numpy (optional)\n",
      "- introduction to mahotas as image analysis/computer vision tool\n",
      "- demonstration of ipython notebook"
     ]
    },
    {
     "cell_type": "markdown",
     "metadata": {},
     "source": [
      "## Dependencies\n",
      "\n",
      "Make sure you have installed these packages to be able to follow this tutorial:\n",
      "\n",
      "- [numpy](http://numpy.org)\n",
      "- [matplotlib](http://matplotlib.org)\n",
      "- [mahotas](http://mahotas.rtfd.org)\n",
      "- [imread](http://imread.rtfd.org)"
     ]
    }
   ],
   "metadata": {}
  }
 ]
}